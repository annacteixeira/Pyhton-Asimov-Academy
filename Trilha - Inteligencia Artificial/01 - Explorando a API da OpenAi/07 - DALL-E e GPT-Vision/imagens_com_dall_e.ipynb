{
 "cells": [
  {
   "cell_type": "code",
   "execution_count": 2,
   "metadata": {},
   "outputs": [],
   "source": [
    "import requests\n",
    "\n",
    "from PIL import Image\n",
    "\n",
    "import openai\n",
    "from dotenv import load_dotenv, find_dotenv\n",
    "\n",
    "_ = load_dotenv(find_dotenv())\n",
    "\n",
    "client = openai.Client()"
   ]
  },
  {
   "cell_type": "markdown",
   "metadata": {},
   "source": [
    "### Criando imagens"
   ]
  },
  {
   "cell_type": "code",
   "execution_count": 10,
   "metadata": {},
   "outputs": [],
   "source": [
    "nome = 'senhoras_bosque'\n",
    "modelo = 'dall-e-3'\n",
    "prompt = 'Crie uma imagem de duas senhoras conversando em um bosque amplo com árvores floridas'\n",
    "qualidade = 'hd'\n",
    "style = 'vivid'\n",
    "\n",
    "\n",
    "resposta = client.images.generate(\n",
    "    model=modelo,\n",
    "    prompt=prompt,\n",
    "    size='1024x1024',\n",
    "    quality=qualidade,\n",
    "    style=style,\n",
    "    n=1\n",
    ")"
   ]
  },
  {
   "cell_type": "code",
   "execution_count": 11,
   "metadata": {},
   "outputs": [
    {
     "name": "stdout",
     "output_type": "stream",
     "text": [
      "Generate an image featuring two elderly women, one of Hispanic descent and the other of Middle-Eastern descent, engrossed in a deep conversation. They are standing in a spacious and verdant forest, characterized by a variety of trees in full bloom. The blossoms on the trees offer a visual feast of vibrant colors, adding a sense of serenity and tranquility to the overall scene.\n"
     ]
    }
   ],
   "source": [
    "print(resposta.data[0].revised_prompt)"
   ]
  },
  {
   "cell_type": "code",
   "execution_count": 12,
   "metadata": {},
   "outputs": [
    {
     "name": "stdout",
     "output_type": "stream",
     "text": [
      "https://oaidalleapiprodscus.blob.core.windows.net/private/org-7RkQq3TUAkr4o61Z2xdLO7BM/user-Pw4AcVrrdPkkkdaR2p6BDi23/img-BtY9A33jHWSuFSTgpUHmhEA5.png?st=2024-12-20T13%3A32%3A33Z&se=2024-12-20T15%3A32%3A33Z&sp=r&sv=2024-08-04&sr=b&rscd=inline&rsct=image/png&skoid=d505667d-d6c1-4a0a-bac7-5c84a87759f8&sktid=a48cca56-e6da-484e-a814-9c849652bcb3&skt=2024-12-20T00%3A19%3A04Z&ske=2024-12-21T00%3A19%3A04Z&sks=b&skv=2024-08-04&sig=MP82WWXrk3vYTCuCktiTwBXHNo/dwtNX1C0MvC6BzHY%3D\n"
     ]
    }
   ],
   "source": [
    "print(resposta.data[0].url)"
   ]
  },
  {
   "cell_type": "markdown",
   "metadata": {},
   "source": [
    "### Salvar imagem"
   ]
  },
  {
   "cell_type": "code",
   "execution_count": 13,
   "metadata": {},
   "outputs": [],
   "source": [
    "nome_arquivo = f'imagens/{nome}_{modelo}_{qualidade}_{style}.jpg'\n",
    "\n",
    "image_url = resposta.data[0].url\n",
    "img_data = requests.get(image_url).content\n",
    "\n",
    "with open(nome_arquivo, 'wb') as f:\n",
    "    f.write(img_data)"
   ]
  },
  {
   "cell_type": "markdown",
   "metadata": {},
   "source": [
    "### Mostra imagem"
   ]
  },
  {
   "cell_type": "code",
   "execution_count": 14,
   "metadata": {},
   "outputs": [],
   "source": [
    "image = Image.open(nome_arquivo)\n",
    "image.show()"
   ]
  }
 ],
 "metadata": {
  "kernelspec": {
   "display_name": "Python 3",
   "language": "python",
   "name": "python3"
  },
  "language_info": {
   "codemirror_mode": {
    "name": "ipython",
    "version": 3
   },
   "file_extension": ".py",
   "mimetype": "text/x-python",
   "name": "python",
   "nbconvert_exporter": "python",
   "pygments_lexer": "ipython3",
   "version": "3.12.6"
  }
 },
 "nbformat": 4,
 "nbformat_minor": 2
}
