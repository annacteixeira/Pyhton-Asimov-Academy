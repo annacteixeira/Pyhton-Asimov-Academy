{
 "cells": [
  {
   "cell_type": "code",
   "execution_count": 1,
   "metadata": {},
   "outputs": [],
   "source": [
    "import openai\n",
    "\n",
    "from dotenv import load_dotenv, find_dotenv\n",
    "\n",
    "_ = load_dotenv(find_dotenv())\n",
    "\n",
    "client = openai.Client()"
   ]
  },
  {
   "cell_type": "code",
   "execution_count": 2,
   "metadata": {},
   "outputs": [],
   "source": [
    "arquivo = 'audios/fala.mp3'\n",
    "\n",
    "texto = ''' \n",
    "    Python is a high-level, general-purpose programming language. \n",
    "    Its design philosophy emphasizes code readability with the use of significant indentation.\n",
    "\n",
    "    Python is dynamically type-checked and garbage-collected. \n",
    "    It supports multiple programming paradigms, including structured (particularly procedural), \n",
    "    object-oriented and functional programming. It is often described as a \"batteries included\" \n",
    "    language due to its comprehensive standard library.\n",
    "    \n",
    "    Guido van Rossum began working on Python in the late 1980s as a successor to the ABC programming language \n",
    "    and first released it in 1991 as Python 0.9.0.\n",
    "    Python 2.0 was released in 2000. Python 3.0, released in 2008, was a major revision not completely backward-compatible \n",
    "    with earlier versions. Python 2.7.18, released in 2020, was the last release of Python 2.\n",
    "\n",
    "    Python consistently ranks as one of the most popular programming languages, and has gained widespread use in the \n",
    "    machine learning community.\n",
    "'''\n",
    "\n",
    "resposta = client.audio.speech.create(\n",
    "    model='tts-1',\n",
    "    voice='echo',\n",
    "    input=texto\n",
    ")\n",
    "\n",
    "resposta.write_to_file(arquivo)"
   ]
  },
  {
   "cell_type": "code",
   "execution_count": 3,
   "metadata": {},
   "outputs": [],
   "source": [
    "arquivo = 'audios/fala_01.mp3'\n",
    "\n",
    "with client.audio.speech.with_streaming_response.create(\n",
    "    model='tts-1',\n",
    "    voice='nova',\n",
    "    input=texto\n",
    ") as resposta:\n",
    "    resposta.stream_to_file(arquivo)"
   ]
  }
 ],
 "metadata": {
  "kernelspec": {
   "display_name": "Python 3",
   "language": "python",
   "name": "python3"
  },
  "language_info": {
   "codemirror_mode": {
    "name": "ipython",
    "version": 3
   },
   "file_extension": ".py",
   "mimetype": "text/x-python",
   "name": "python",
   "nbconvert_exporter": "python",
   "pygments_lexer": "ipython3",
   "version": "3.12.6"
  }
 },
 "nbformat": 4,
 "nbformat_minor": 2
}
