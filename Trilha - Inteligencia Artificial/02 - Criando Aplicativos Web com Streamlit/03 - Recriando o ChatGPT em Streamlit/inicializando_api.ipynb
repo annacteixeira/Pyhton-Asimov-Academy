{
 "cells": [
  {
   "cell_type": "code",
   "execution_count": 22,
   "metadata": {},
   "outputs": [],
   "source": [
    "import os\n",
    "import openai\n",
    "from dotenv import find_dotenv, load_dotenv\n",
    "\n",
    "_ = load_dotenv(find_dotenv())\n",
    "\n",
    "openai_key = os.getenv('OPENAI_API_KEY')\n",
    "if not openai_key:\n",
    "    raise ValueError(\"A chave OPENAI_API_KEY não foi encontrada. Verifique o arquivo .env ou variáveis de ambiente.\")\n"
   ]
  },
  {
   "cell_type": "markdown",
   "metadata": {},
   "source": [
    "## Função para retornar a mensagem do modelo"
   ]
  },
  {
   "cell_type": "code",
   "execution_count": 23,
   "metadata": {},
   "outputs": [],
   "source": [
    "def retorna_resposta_modelo(mensagens, \n",
    "                            openai_key, \n",
    "                            modelo='gpt-3.5-turbo',\n",
    "                            temperatura=0,\n",
    "                            stream=False):\n",
    "    openai.api_key = openai_key\n",
    "    response = openai.chat.completions.create(\n",
    "        model = modelo,\n",
    "        messages = mensagens,\n",
    "        temperature = temperatura,\n",
    "        stream = stream\n",
    "    )\n",
    "    \n",
    "    return response"
   ]
  },
  {
   "cell_type": "code",
   "execution_count": 24,
   "metadata": {},
   "outputs": [
    {
     "data": {
      "text/plain": [
       "ChatCompletion(id='chatcmpl-AhdGN1194eY2LM759yROWl7xAw2QI', choices=[Choice(finish_reason='stop', index=0, logprobs=None, message=ChatCompletionMessage(content='Fruta redonda e saborosa.', refusal=None, role='assistant', audio=None, function_call=None, tool_calls=None))], created=1734962395, model='gpt-3.5-turbo-0125', object='chat.completion', service_tier=None, system_fingerprint=None, usage=CompletionUsage(completion_tokens=10, prompt_tokens=20, total_tokens=30, completion_tokens_details=CompletionTokensDetails(accepted_prediction_tokens=0, audio_tokens=0, reasoning_tokens=0, rejected_prediction_tokens=0), prompt_tokens_details=PromptTokensDetails(audio_tokens=0, cached_tokens=0)))"
      ]
     },
     "execution_count": 24,
     "metadata": {},
     "output_type": "execute_result"
    }
   ],
   "source": [
    "mensagens = [{'role':'user', 'content':'O que é uma maçã em 5 palavras?'}]\n",
    "resposta = retorna_resposta_modelo(mensagens, openai_key)\n",
    "resposta"
   ]
  },
  {
   "cell_type": "code",
   "execution_count": 25,
   "metadata": {},
   "outputs": [
    {
     "name": "stdout",
     "output_type": "stream",
     "text": [
      "Fruta redonda e saborosa.\n"
     ]
    }
   ],
   "source": [
    "print(resposta.choices[0].message.content)"
   ]
  },
  {
   "cell_type": "code",
   "execution_count": 26,
   "metadata": {},
   "outputs": [],
   "source": [
    "mensagens.append({'role': 'assistant', 'content': resposta.choices[0].message.content})"
   ]
  },
  {
   "cell_type": "code",
   "execution_count": 28,
   "metadata": {},
   "outputs": [
    {
     "name": "stdout",
     "output_type": "stream",
     "text": [
      "[{'role': 'user', 'content': 'O que é uma maçã em 5 palavras?'}, {'role': 'assistant', 'content': 'Fruta redonda e saborosa.'}, {'role': 'user', 'content': 'E qual é o seu tamanho?'}, {'role': 'user', 'content': 'E qual é o seu tamanho?'}]\n"
     ]
    }
   ],
   "source": [
    "mensagens.append({'role':'user', 'content':'E qual é o seu tamanho?'})\n",
    "print(mensagens)"
   ]
  },
  {
   "cell_type": "code",
   "execution_count": 29,
   "metadata": {},
   "outputs": [
    {
     "name": "stdout",
     "output_type": "stream",
     "text": [
      "Pequena, média ou grande.\n"
     ]
    }
   ],
   "source": [
    "resposta = retorna_resposta_modelo(mensagens, openai_key)\n",
    "print(resposta.choices[0].message.content)"
   ]
  },
  {
   "cell_type": "markdown",
   "metadata": {},
   "source": [
    "## Recebendo uma stream de respostas"
   ]
  },
  {
   "cell_type": "code",
   "execution_count": 34,
   "metadata": {},
   "outputs": [
    {
     "name": "stdout",
     "output_type": "stream",
     "text": [
      "Nova resposta: >> Choice(delta=ChoiceDelta(content='', function_call=None, refusal=None, role='assistant', tool_calls=None), finish_reason=None, index=0, logprobs=None)\n",
      "Nova resposta: >> Choice(delta=ChoiceDelta(content='Fr', function_call=None, refusal=None, role=None, tool_calls=None), finish_reason=None, index=0, logprobs=None)\n",
      "Nova resposta: >> Choice(delta=ChoiceDelta(content='uta', function_call=None, refusal=None, role=None, tool_calls=None), finish_reason=None, index=0, logprobs=None)\n",
      "Nova resposta: >> Choice(delta=ChoiceDelta(content=' red', function_call=None, refusal=None, role=None, tool_calls=None), finish_reason=None, index=0, logprobs=None)\n",
      "Nova resposta: >> Choice(delta=ChoiceDelta(content='onda', function_call=None, refusal=None, role=None, tool_calls=None), finish_reason=None, index=0, logprobs=None)\n",
      "Nova resposta: >> Choice(delta=ChoiceDelta(content=' e', function_call=None, refusal=None, role=None, tool_calls=None), finish_reason=None, index=0, logprobs=None)\n",
      "Nova resposta: >> Choice(delta=ChoiceDelta(content=' s', function_call=None, refusal=None, role=None, tool_calls=None), finish_reason=None, index=0, logprobs=None)\n",
      "Nova resposta: >> Choice(delta=ChoiceDelta(content='abor', function_call=None, refusal=None, role=None, tool_calls=None), finish_reason=None, index=0, logprobs=None)\n",
      "Nova resposta: >> Choice(delta=ChoiceDelta(content='osa', function_call=None, refusal=None, role=None, tool_calls=None), finish_reason=None, index=0, logprobs=None)\n",
      "Nova resposta: >> Choice(delta=ChoiceDelta(content='.', function_call=None, refusal=None, role=None, tool_calls=None), finish_reason=None, index=0, logprobs=None)\n",
      "Nova resposta: >> Choice(delta=ChoiceDelta(content=None, function_call=None, refusal=None, role=None, tool_calls=None), finish_reason='stop', index=0, logprobs=None)\n"
     ]
    }
   ],
   "source": [
    "mensagens = [{'role':'user', 'content':'O que é uma maçã em 5 palavras?'}]\n",
    "respostas = retorna_resposta_modelo(mensagens, openai_key, stream=True)\n",
    "\n",
    "for resposta in respostas:\n",
    "    print('Nova resposta: >>', resposta.choices[0])"
   ]
  }
 ],
 "metadata": {
  "kernelspec": {
   "display_name": "Python 3",
   "language": "python",
   "name": "python3"
  },
  "language_info": {
   "codemirror_mode": {
    "name": "ipython",
    "version": 3
   },
   "file_extension": ".py",
   "mimetype": "text/x-python",
   "name": "python",
   "nbconvert_exporter": "python",
   "pygments_lexer": "ipython3",
   "version": "3.12.6"
  }
 },
 "nbformat": 4,
 "nbformat_minor": 2
}
