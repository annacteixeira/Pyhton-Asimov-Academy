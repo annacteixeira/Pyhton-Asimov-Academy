{
 "cells": [
  {
   "cell_type": "code",
   "execution_count": 23,
   "metadata": {},
   "outputs": [],
   "source": [
    "# importa a biblioteca da OpenAI\n",
    "import openai\n",
    "\n",
    "from dotenv import load_dotenv, find_dotenv\n",
    "\n",
    "_ = load_dotenv(find_dotenv())"
   ]
  },
  {
   "cell_type": "code",
   "execution_count": 24,
   "metadata": {},
   "outputs": [],
   "source": [
    "# cria uma instância do cliente da OpenAI para interagir com a API\n",
    "\n",
    "client = openai.Client()"
   ]
  },
  {
   "cell_type": "code",
   "execution_count": 25,
   "metadata": {},
   "outputs": [],
   "source": [
    "# lista de mensagens com uma pergunta \n",
    "mensagens = [{'role':'user', 'content':'O que é uma maçã em 5 palavras?'}]\n",
    "\n",
    "# chama a API para criar uma resposta com o GPT 3.5 turbo\n",
    "resposta = client.chat.completions.create(\n",
    "    messages=mensagens,\n",
    "    model='gpt-3.5-turbo-0125',\n",
    "    max_tokens=1000,\n",
    "    temperature=0 # criatividade da resposta\n",
    ")"
   ]
  },
  {
   "cell_type": "code",
   "execution_count": 26,
   "metadata": {},
   "outputs": [
    {
     "name": "stdout",
     "output_type": "stream",
     "text": [
      "Fruta redonda e saborosa.\n"
     ]
    }
   ],
   "source": [
    "# retorna o id da resposta\n",
    "resposta.id\n",
    "\n",
    "# retorna o conteúdo da resposta\n",
    "print(resposta.choices[0].message.content)\n"
   ]
  },
  {
   "cell_type": "code",
   "execution_count": 27,
   "metadata": {},
   "outputs": [
    {
     "data": {
      "text/plain": [
       "[{'role': 'user', 'content': 'O que é uma maçã em 5 palavras?'},\n",
       " {'role': 'assistant', 'content': 'Fruta redonda e saborosa.'}]"
      ]
     },
     "execution_count": 27,
     "metadata": {},
     "output_type": "execute_result"
    }
   ],
   "source": [
    "# adiciona a resposta gerada pelo modelo à lista de mensagens, marcando como resposta do assistente\n",
    "\n",
    "mensagens.append({'role':'assistant','content':resposta.choices[0].message.content})\n",
    "\n",
    "mensagens"
   ]
  },
  {
   "cell_type": "code",
   "execution_count": 28,
   "metadata": {},
   "outputs": [],
   "source": [
    "mensagens.append({'role':'user', 'content':'E qual é a sua cor?'})\n",
    "\n",
    "resposta = client.chat.completions.create(\n",
    "    messages=mensagens,\n",
    "    model='gpt-3.5-turbo-0125',\n",
    "    max_tokens=1000,\n",
    "    temperature=0 # criatividade da resposta\n",
    ")"
   ]
  },
  {
   "cell_type": "code",
   "execution_count": 29,
   "metadata": {},
   "outputs": [
    {
     "name": "stdout",
     "output_type": "stream",
     "text": [
      "Vermelha, verde ou amarela.\n"
     ]
    }
   ],
   "source": [
    "print(resposta.choices[0].message.content)"
   ]
  },
  {
   "cell_type": "markdown",
   "metadata": {},
   "source": [
    "## Adicionando a uma função"
   ]
  },
  {
   "cell_type": "code",
   "execution_count": 30,
   "metadata": {},
   "outputs": [],
   "source": [
    "def geracao_texto(mensagens, model='gpt-3.5-turbo-0125', max_tokens=1000, temperature=0):\n",
    "    resposta = client.chat.completions.create(\n",
    "    messages=mensagens,\n",
    "    model=model,\n",
    "    max_tokens=max_tokens,\n",
    "    temperature=temperature # criatividade da resposta\n",
    "    )\n",
    "    \n",
    "    print(resposta.choices[0].message.content)\n",
    "    mensagens.append(resposta.choices[0].message.model_dump(exclude_none=True))\n",
    "    \n",
    "    return mensagens"
   ]
  },
  {
   "cell_type": "code",
   "execution_count": 31,
   "metadata": {},
   "outputs": [
    {
     "name": "stdout",
     "output_type": "stream",
     "text": [
      "Fruta redonda e saborosa.\n"
     ]
    }
   ],
   "source": [
    "mensagens.append({'role':'user', 'content':'O que é uma maçã em 5 palavras?'})\n",
    "\n",
    "mensagens = geracao_texto(mensagens)"
   ]
  },
  {
   "cell_type": "markdown",
   "metadata": {},
   "source": [
    "## Explorando classe de resposta"
   ]
  },
  {
   "cell_type": "code",
   "execution_count": 32,
   "metadata": {},
   "outputs": [],
   "source": [
    "mensagens = [{'role':'user', 'content':'O que é uma maçã em 5 palavras?'}]\n",
    "\n",
    "resposta = client.chat.completions.create(\n",
    "    messages=mensagens,\n",
    "    model='gpt-3.5-turbo-0125',\n",
    "    max_tokens=1000,\n",
    "    temperature=0\n",
    ")"
   ]
  },
  {
   "cell_type": "code",
   "execution_count": 33,
   "metadata": {},
   "outputs": [
    {
     "data": {
      "text/plain": [
       "CompletionUsage(completion_tokens=9, prompt_tokens=20, total_tokens=29, completion_tokens_details=CompletionTokensDetails(accepted_prediction_tokens=0, audio_tokens=0, reasoning_tokens=0, rejected_prediction_tokens=0), prompt_tokens_details=PromptTokensDetails(audio_tokens=0, cached_tokens=0))"
      ]
     },
     "execution_count": 33,
     "metadata": {},
     "output_type": "execute_result"
    }
   ],
   "source": [
    "# mostra quantos tokens foram utilizados na chamada de API\n",
    "\n",
    "resposta.usage"
   ]
  },
  {
   "cell_type": "code",
   "execution_count": 34,
   "metadata": {},
   "outputs": [
    {
     "data": {
      "text/plain": [
       "ChatCompletionMessage(content='Fruta redonda e saborosa.', refusal=None, role='assistant', audio=None, function_call=None, tool_calls=None)"
      ]
     },
     "execution_count": 34,
     "metadata": {},
     "output_type": "execute_result"
    }
   ],
   "source": [
    "resposta.choices[0].message"
   ]
  },
  {
   "cell_type": "code",
   "execution_count": 35,
   "metadata": {},
   "outputs": [
    {
     "data": {
      "text/plain": [
       "{'content': 'Fruta redonda e saborosa.', 'role': 'assistant'}"
      ]
     },
     "execution_count": 35,
     "metadata": {},
     "output_type": "execute_result"
    }
   ],
   "source": [
    "resposta.choices[0].message.model_dump(exclude_none=True)"
   ]
  },
  {
   "cell_type": "markdown",
   "metadata": {},
   "source": [
    "## Explorando max_tokens e temperature"
   ]
  },
  {
   "cell_type": "code",
   "execution_count": 38,
   "metadata": {},
   "outputs": [
    {
     "name": "stdout",
     "output_type": "stream",
     "text": [
      "Fruta redonda\n"
     ]
    }
   ],
   "source": [
    "mensagens = [{'role':'user', 'content':'O que é uma maçã em 5 palavras?'}]\n",
    "mensagens = geracao_texto(mensagens, max_tokens = 4)"
   ]
  },
  {
   "cell_type": "code",
   "execution_count": 41,
   "metadata": {},
   "outputs": [
    {
     "name": "stdout",
     "output_type": "stream",
     "text": [
      "Fruta redonda e saborosa.\n"
     ]
    }
   ],
   "source": [
    "mensagens = geracao_texto(mensagens, temperature = 1)"
   ]
  },
  {
   "cell_type": "markdown",
   "metadata": {},
   "source": [
    "## Gerando uma stream de texto"
   ]
  },
  {
   "cell_type": "code",
   "execution_count": 55,
   "metadata": {},
   "outputs": [],
   "source": [
    "mensagens = [{'role':'user', 'content':'crie uma história sobre uma viagem a marte'}]\n",
    "\n",
    "resposta = client.chat.completions.create(\n",
    "    messages=mensagens,\n",
    "    model='gpt-3.5-turbo-0125',\n",
    "    max_tokens=1000,\n",
    "    temperature=0,\n",
    "    stream=True\n",
    ")"
   ]
  },
  {
   "cell_type": "code",
   "execution_count": 56,
   "metadata": {},
   "outputs": [
    {
     "name": "stdout",
     "output_type": "stream",
     "text": [
      "Era o ano de 2050 e a humanidade finalmente havia conseguido desenvolver a tecnologia necessária para realizar viagens interplanetárias. Um grupo de cientistas e astronautas estava se preparando para a primeira viagem tripulada a Marte.\n",
      "\n",
      "A nave espacial estava pronta e a tripulação embarcou ansiosa para a jornada que mudaria para sempre a história da humanidade. Após meses de viagem, eles finalmente chegaram ao Planeta Vermelho.\n",
      "\n",
      "Ao desembarcarem, os astronautas ficaram maravilhados com a paisagem árida e desértica de Marte. Eles começaram a explorar o local, coletando amostras de solo e rochas para análise.\n",
      "\n",
      "Enquanto exploravam, a tripulação descobriu vestígios de uma antiga civilização marciana, o que os deixou ainda mais fascinados. Eles encontraram ruínas de construções e artefatos que indicavam que Marte já foi habitado por seres inteligentes.\n",
      "\n",
      "Durante a estadia em Marte, os astronautas também realizaram experimentos científicos e estudaram a atmosfera e o clima do planeta. Eles coletaram dados valiosos que seriam fundamentais para futuras missões e para a colonização de Marte.\n",
      "\n",
      "Após semanas de exploração, a tripulação se preparou para retornar à Terra. Eles deixaram para trás uma placa com uma mensagem de paz e amizade, na esperança de que um dia os humanos e os marcianos pudessem se encontrar e compartilhar conhecimentos.\n",
      "\n",
      "A viagem de volta foi longa e cansativa, mas a tripulação estava radiante com o sucesso da missão. Ao chegarem à Terra, foram recebidos como heróis e suas descobertas foram aclamadas pela comunidade científica.\n",
      "\n",
      "A viagem a Marte marcou o início de uma nova era de exploração espacial e abriu as portas para a colonização de outros planetas. A humanidade finalmente havia dado um passo importante em direção às estrelas, rumo ao desconhecido."
     ]
    }
   ],
   "source": [
    "resposta_completa = ''\n",
    "\n",
    "for stream_resposta in resposta:\n",
    "    texto = stream_resposta.choices[0].delta.content\n",
    "    if texto:\n",
    "        resposta_completa += texto\n",
    "        print(texto, end='')\n",
    "    "
   ]
  },
  {
   "cell_type": "code",
   "execution_count": 57,
   "metadata": {},
   "outputs": [
    {
     "name": "stdout",
     "output_type": "stream",
     "text": [
      "Era o ano de 2050 e a humanidade finalmente havia conseguido desenvolver a tecnologia necessária para realizar viagens interplanetárias. Um grupo de cientistas e astronautas estava se preparando para a primeira viagem tripulada a Marte.\n",
      "\n",
      "A nave espacial estava pronta e a tripulação embarcou ansiosa para a jornada que mudaria para sempre a história da humanidade. Após meses de viagem, eles finalmente chegaram ao Planeta Vermelho.\n",
      "\n",
      "Ao desembarcarem, os astronautas ficaram maravilhados com a paisagem árida e desértica de Marte. Eles começaram a explorar o local, coletando amostras de solo e rochas para análise.\n",
      "\n",
      "Enquanto exploravam, a tripulação descobriu vestígios de uma antiga civilização marciana, o que os deixou ainda mais fascinados. Eles encontraram ruínas de construções e artefatos que indicavam que Marte já foi habitado por seres inteligentes.\n",
      "\n",
      "Durante a estadia em Marte, os astronautas também realizaram experimentos científicos e estudaram a atmosfera e o clima do planeta. Eles coletaram dados valiosos que seriam fundamentais para futuras missões e para a colonização de Marte.\n",
      "\n",
      "Após semanas de exploração, a tripulação se preparou para retornar à Terra. Eles deixaram para trás uma placa com uma mensagem de paz e amizade, na esperança de que um dia os humanos e os marcianos pudessem se encontrar e compartilhar conhecimentos.\n",
      "\n",
      "A viagem de volta foi longa e cansativa, mas a tripulação estava radiante com o sucesso da missão. Ao chegarem à Terra, foram recebidos como heróis e suas descobertas foram aclamadas pela comunidade científica.\n",
      "\n",
      "A viagem a Marte marcou o início de uma nova era de exploração espacial e abriu as portas para a colonização de outros planetas. A humanidade finalmente havia dado um passo importante em direção às estrelas, rumo ao desconhecido.\n"
     ]
    }
   ],
   "source": [
    "print(resposta_completa)"
   ]
  }
 ],
 "metadata": {
  "kernelspec": {
   "display_name": "Python 3",
   "language": "python",
   "name": "python3"
  },
  "language_info": {
   "codemirror_mode": {
    "name": "ipython",
    "version": 3
   },
   "file_extension": ".py",
   "mimetype": "text/x-python",
   "name": "python",
   "nbconvert_exporter": "python",
   "pygments_lexer": "ipython3",
   "version": "3.12.6"
  }
 },
 "nbformat": 4,
 "nbformat_minor": 4
}
